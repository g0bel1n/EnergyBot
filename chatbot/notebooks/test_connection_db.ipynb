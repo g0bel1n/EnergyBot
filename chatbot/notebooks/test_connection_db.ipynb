{
 "cells": [
  {
   "cell_type": "code",
   "execution_count": 11,
   "metadata": {},
   "outputs": [],
   "source": [
    "import psycopg2\n",
    "# from sqlalchemy import create_engine\n",
    "import pandas as pd\n",
    "import yaml\n",
    "from datetime import datetime\n",
    "from yaml.loader import SafeLoader\n",
    "import requests\n",
    "import uuid, shortuuid\n",
    "\n",
    "# Open the file and load the file\n",
    "with open('C:/Users/idris/Desktop/ENSAE/S1_3A/Cloud_Computing/EnergyBot/chatbot/config_db.yml') as f:\n",
    "    credentials = yaml.load(f, Loader=SafeLoader)\n",
    "\n",
    "conn = psycopg2.connect(database=credentials[\"database\"],\n",
    "                        host=credentials[\"host\"],\n",
    "                        user=credentials[\"user\"],\n",
    "                        password=credentials[\"password\"],\n",
    "                        port=credentials[\"port\"])\n",
    "\n",
    "cursor = conn.cursor()"
   ]
  },
  {
   "cell_type": "code",
   "execution_count": 12,
   "metadata": {},
   "outputs": [
    {
     "data": {
      "text/plain": [
       "'2022-12-27'"
      ]
     },
     "execution_count": 12,
     "metadata": {},
     "output_type": "execute_result"
    }
   ],
   "source": [
    "datetime.now().strftime(\"%Y-%m-%d\")"
   ]
  },
  {
   "cell_type": "code",
   "execution_count": 13,
   "metadata": {},
   "outputs": [
    {
     "data": {
      "text/plain": [
       "'\\nquery = \"\"\"DELETE FROM customer_data;\"\"\"\\ncursor.execute(query)\\nconn.commit()\\n'"
      ]
     },
     "execution_count": 13,
     "metadata": {},
     "output_type": "execute_result"
    }
   ],
   "source": [
    "'''\n",
    "query = \"\"\"DELETE FROM customer_data;\"\"\"\n",
    "cursor.execute(query)\n",
    "conn.commit()\n",
    "'''"
   ]
  },
  {
   "cell_type": "code",
   "execution_count": 14,
   "metadata": {},
   "outputs": [
    {
     "name": "stderr",
     "output_type": "stream",
     "text": [
      "C:\\Users\\idris\\AppData\\Local\\Temp\\ipykernel_20424\\149451697.py:1: UserWarning: pandas only supports SQLAlchemy connectable (engine/connection) or database string URI or sqlite3 DBAPI2 connection. Other DBAPI2 objects are not tested. Please consider using SQLAlchemy.\n",
      "  df = pd.read_sql('select * from customer_data', con=conn)\n"
     ]
    },
    {
     "data": {
      "text/html": [
       "<div>\n",
       "<style scoped>\n",
       "    .dataframe tbody tr th:only-of-type {\n",
       "        vertical-align: middle;\n",
       "    }\n",
       "\n",
       "    .dataframe tbody tr th {\n",
       "        vertical-align: top;\n",
       "    }\n",
       "\n",
       "    .dataframe thead th {\n",
       "        text-align: right;\n",
       "    }\n",
       "</style>\n",
       "<table border=\"1\" class=\"dataframe\">\n",
       "  <thead>\n",
       "    <tr style=\"text-align: right;\">\n",
       "      <th></th>\n",
       "      <th>CUSTOMER_ID</th>\n",
       "      <th>CIVILITY</th>\n",
       "      <th>FIRSTNAME</th>\n",
       "      <th>LASTNAME</th>\n",
       "      <th>ZIPCODE</th>\n",
       "      <th>EMAIL</th>\n",
       "      <th>BIRTHYEAR</th>\n",
       "      <th>ECOLO_SCORE</th>\n",
       "      <th>WORKDAY_OCCUPATION</th>\n",
       "      <th>MAX_POWER</th>\n",
       "      <th>CONS_PROFILE</th>\n",
       "      <th>Q_INHABITED_AREA</th>\n",
       "      <th>Q_HOUSING_KIND</th>\n",
       "      <th>Q_HOUSING_OUTLINE</th>\n",
       "      <th>Q_NB_INHABITANT</th>\n",
       "      <th>REQUEST_DATE</th>\n",
       "    </tr>\n",
       "  </thead>\n",
       "  <tbody>\n",
       "    <tr>\n",
       "      <th>0</th>\n",
       "      <td>0d8a01a7-c1d4-43bc-b895-7442fec8b35d</td>\n",
       "      <td>MR</td>\n",
       "      <td>Idrissa</td>\n",
       "      <td>KONKOBO</td>\n",
       "      <td>97615</td>\n",
       "      <td>ikonkobo@ensae.fr</td>\n",
       "      <td>1998</td>\n",
       "      <td>4</td>\n",
       "      <td>True</td>\n",
       "      <td>12</td>\n",
       "      <td>RES2</td>\n",
       "      <td>None</td>\n",
       "      <td>None</td>\n",
       "      <td>None</td>\n",
       "      <td>None</td>\n",
       "      <td>2022-11-26</td>\n",
       "    </tr>\n",
       "    <tr>\n",
       "      <th>1</th>\n",
       "      <td>176f6e30-eede-452d-b242-7600d1ce9bde</td>\n",
       "      <td>MME</td>\n",
       "      <td>Sorelle</td>\n",
       "      <td>METHAFE</td>\n",
       "      <td>97615</td>\n",
       "      <td>smethafe@ensae.fr</td>\n",
       "      <td>1998</td>\n",
       "      <td>4</td>\n",
       "      <td>True</td>\n",
       "      <td>15</td>\n",
       "      <td>RES11</td>\n",
       "      <td>None</td>\n",
       "      <td>None</td>\n",
       "      <td>None</td>\n",
       "      <td>None</td>\n",
       "      <td>2022-12-09</td>\n",
       "    </tr>\n",
       "    <tr>\n",
       "      <th>2</th>\n",
       "      <td>8e438836-be89-40f8-b2c9-c6fb0277de65</td>\n",
       "      <td>MR</td>\n",
       "      <td>Lucas</td>\n",
       "      <td>Saban</td>\n",
       "      <td>97615</td>\n",
       "      <td>lucas.saban@ensae.fr</td>\n",
       "      <td>1998</td>\n",
       "      <td>4</td>\n",
       "      <td>True</td>\n",
       "      <td>12</td>\n",
       "      <td>RES2</td>\n",
       "      <td>None</td>\n",
       "      <td>None</td>\n",
       "      <td>None</td>\n",
       "      <td>None</td>\n",
       "      <td>2022-12-26</td>\n",
       "    </tr>\n",
       "  </tbody>\n",
       "</table>\n",
       "</div>"
      ],
      "text/plain": [
       "                            CUSTOMER_ID CIVILITY FIRSTNAME LASTNAME ZIPCODE  \\\n",
       "0  0d8a01a7-c1d4-43bc-b895-7442fec8b35d       MR   Idrissa  KONKOBO   97615   \n",
       "1  176f6e30-eede-452d-b242-7600d1ce9bde      MME   Sorelle  METHAFE   97615   \n",
       "2  8e438836-be89-40f8-b2c9-c6fb0277de65       MR     Lucas    Saban   97615   \n",
       "\n",
       "                  EMAIL  BIRTHYEAR  ECOLO_SCORE  WORKDAY_OCCUPATION  \\\n",
       "0     ikonkobo@ensae.fr       1998            4                True   \n",
       "1     smethafe@ensae.fr       1998            4                True   \n",
       "2  lucas.saban@ensae.fr       1998            4                True   \n",
       "\n",
       "   MAX_POWER CONS_PROFILE Q_INHABITED_AREA Q_HOUSING_KIND Q_HOUSING_OUTLINE  \\\n",
       "0         12         RES2             None           None              None   \n",
       "1         15        RES11             None           None              None   \n",
       "2         12         RES2             None           None              None   \n",
       "\n",
       "  Q_NB_INHABITANT REQUEST_DATE  \n",
       "0            None   2022-11-26  \n",
       "1            None   2022-12-09  \n",
       "2            None   2022-12-26  "
      ]
     },
     "execution_count": 14,
     "metadata": {},
     "output_type": "execute_result"
    }
   ],
   "source": [
    "df = pd.read_sql('select * from customer_data', con=conn)\n",
    "df"
   ]
  },
  {
   "cell_type": "code",
   "execution_count": 15,
   "metadata": {},
   "outputs": [
    {
     "name": "stdout",
     "output_type": "stream",
     "text": [
      "<class 'pandas.core.frame.DataFrame'>\n",
      "RangeIndex: 3 entries, 0 to 2\n",
      "Data columns (total 16 columns):\n",
      " #   Column              Non-Null Count  Dtype \n",
      "---  ------              --------------  ----- \n",
      " 0   CUSTOMER_ID         3 non-null      object\n",
      " 1   CIVILITY            3 non-null      object\n",
      " 2   FIRSTNAME           3 non-null      object\n",
      " 3   LASTNAME            3 non-null      object\n",
      " 4   ZIPCODE             3 non-null      object\n",
      " 5   EMAIL               3 non-null      object\n",
      " 6   BIRTHYEAR           3 non-null      int64 \n",
      " 7   ECOLO_SCORE         3 non-null      int64 \n",
      " 8   WORKDAY_OCCUPATION  3 non-null      bool  \n",
      " 9   MAX_POWER           3 non-null      int64 \n",
      " 10  CONS_PROFILE        3 non-null      object\n",
      " 11  Q_INHABITED_AREA    0 non-null      object\n",
      " 12  Q_HOUSING_KIND      0 non-null      object\n",
      " 13  Q_HOUSING_OUTLINE   0 non-null      object\n",
      " 14  Q_NB_INHABITANT     0 non-null      object\n",
      " 15  REQUEST_DATE        3 non-null      object\n",
      "dtypes: bool(1), int64(3), object(12)\n",
      "memory usage: 491.0+ bytes\n"
     ]
    }
   ],
   "source": [
    "df.info()"
   ]
  },
  {
   "cell_type": "code",
   "execution_count": 16,
   "metadata": {},
   "outputs": [],
   "source": [
    "#pd.read_csv(\"https://www.insee.fr/fr/statistiques/fichier/5057840/commune2021-csv.zip\")[\"COM\"]"
   ]
  },
  {
   "cell_type": "code",
   "execution_count": null,
   "metadata": {},
   "outputs": [],
   "source": []
  }
 ],
 "metadata": {
  "kernelspec": {
   "display_name": "Python 3.9.15 ('rasa-app')",
   "language": "python",
   "name": "python3"
  },
  "language_info": {
   "codemirror_mode": {
    "name": "ipython",
    "version": 3
   },
   "file_extension": ".py",
   "mimetype": "text/x-python",
   "name": "python",
   "nbconvert_exporter": "python",
   "pygments_lexer": "ipython3",
   "version": "3.9.15"
  },
  "orig_nbformat": 4,
  "vscode": {
   "interpreter": {
    "hash": "330de1046d954a743bbf2a1e54c32d1790906efc6ffce1996feeb0a5d76292b7"
   }
  }
 },
 "nbformat": 4,
 "nbformat_minor": 2
}
