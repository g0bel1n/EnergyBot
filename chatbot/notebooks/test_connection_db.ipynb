{
 "cells": [
  {
   "cell_type": "code",
   "execution_count": 32,
   "metadata": {},
   "outputs": [],
   "source": [
    "import psycopg2\n",
    "# from sqlalchemy import create_engine\n",
    "import pandas as pd\n",
    "import yaml\n",
    "from yaml.loader import SafeLoader\n",
    "\n",
    "# Open the file and load the file\n",
    "with open('C:/Users/idris/Desktop/ENSAE/S1_3A/Cloud_Computing/EnergyBot/chatbot/config_db.yml') as f:\n",
    "    credentials = yaml.load(f, Loader=SafeLoader)\n",
    "\n",
    "conn = psycopg2.connect(database=credentials[\"database\"],\n",
    "                        host=credentials[\"host\"],\n",
    "                        user=credentials[\"user\"],\n",
    "                        password=credentials[\"password\"],\n",
    "                        port=credentials[\"port\"])"
   ]
  },
  {
   "cell_type": "code",
   "execution_count": 33,
   "metadata": {},
   "outputs": [],
   "source": [
    "cursor = conn.cursor()"
   ]
  },
  {
   "cell_type": "code",
   "execution_count": 34,
   "metadata": {},
   "outputs": [
    {
     "ename": "UniqueViolation",
     "evalue": "duplicate key value violates unique constraint \"UNIQUE_EMAIL\"\nDETAIL:  Key (\"EMAIL\")=(lucas.saban@ensae.fr) already exists.\n",
     "output_type": "error",
     "traceback": [
      "\u001b[1;31m---------------------------------------------------------------------------\u001b[0m",
      "\u001b[1;31mUniqueViolation\u001b[0m                           Traceback (most recent call last)",
      "Cell \u001b[1;32mIn [34], line 5\u001b[0m\n\u001b[0;32m      1\u001b[0m query \u001b[39m=\u001b[39m \u001b[39m\"\"\"\u001b[39m\u001b[39mINSERT INTO customer_data (\u001b[39m\u001b[39m\"\u001b[39m\u001b[39mCIVILITY\u001b[39m\u001b[39m\"\u001b[39m\u001b[39m, \u001b[39m\u001b[39m\"\u001b[39m\u001b[39mFIRSTNAME\u001b[39m\u001b[39m\"\u001b[39m\u001b[39m, \u001b[39m\u001b[39m\"\u001b[39m\u001b[39mLASTNAME\u001b[39m\u001b[39m\"\u001b[39m\u001b[39m, \u001b[39m\u001b[39m\\\u001b[39;00m\n\u001b[0;32m      2\u001b[0m \u001b[39m    \u001b[39m\u001b[39m\"\u001b[39m\u001b[39mZIPCODE\u001b[39m\u001b[39m\"\u001b[39m\u001b[39m, \u001b[39m\u001b[39m\"\u001b[39m\u001b[39mEMAIL\u001b[39m\u001b[39m\"\u001b[39m\u001b[39m, \u001b[39m\u001b[39m\"\u001b[39m\u001b[39mBIRTHYEAR\u001b[39m\u001b[39m\"\u001b[39m\u001b[39m, \u001b[39m\u001b[39m\"\u001b[39m\u001b[39mECOLO_SCORE\u001b[39m\u001b[39m\"\u001b[39m\u001b[39m, \u001b[39m\u001b[39m\"\u001b[39m\u001b[39mWORKDAY_OCCUPATION\u001b[39m\u001b[39m\"\u001b[39m\u001b[39m, \u001b[39m\u001b[39m\"\u001b[39m\u001b[39mMAX_POWER\u001b[39m\u001b[39m\"\u001b[39m\u001b[39m, \u001b[39m\u001b[39m\"\u001b[39m\u001b[39mCONS_PROFILE\u001b[39m\u001b[39m\"\u001b[39m\u001b[39m) \u001b[39m\u001b[39m\\\u001b[39;00m\n\u001b[0;32m      3\u001b[0m \u001b[39m    VALUES (\u001b[39m\u001b[39m'\u001b[39m\u001b[39mMR\u001b[39m\u001b[39m'\u001b[39m\u001b[39m, \u001b[39m\u001b[39m'\u001b[39m\u001b[39mLucas\u001b[39m\u001b[39m'\u001b[39m\u001b[39m, \u001b[39m\u001b[39m'\u001b[39m\u001b[39mSaban\u001b[39m\u001b[39m'\u001b[39m\u001b[39m, \u001b[39m\u001b[39m'\u001b[39m\u001b[39m91120\u001b[39m\u001b[39m'\u001b[39m\u001b[39m, \u001b[39m\u001b[39m'\u001b[39m\u001b[39mlucas.saban@ensae.fr\u001b[39m\u001b[39m'\u001b[39m\u001b[39m, \u001b[39m\u001b[39m\\\u001b[39;00m\n\u001b[0;32m      4\u001b[0m \u001b[39m    \u001b[39m\u001b[39m'\u001b[39m\u001b[39m1998\u001b[39m\u001b[39m'\u001b[39m\u001b[39m, 5, True, 6, \u001b[39m\u001b[39m'\u001b[39m\u001b[39mRES2\u001b[39m\u001b[39m'\u001b[39m\u001b[39m)\u001b[39m\u001b[39m\"\"\"\u001b[39m\n\u001b[1;32m----> 5\u001b[0m cursor\u001b[39m.\u001b[39;49mexecute(query)\n\u001b[0;32m      6\u001b[0m conn\u001b[39m.\u001b[39mcommit()\n",
      "\u001b[1;31mUniqueViolation\u001b[0m: duplicate key value violates unique constraint \"UNIQUE_EMAIL\"\nDETAIL:  Key (\"EMAIL\")=(lucas.saban@ensae.fr) already exists.\n"
     ]
    }
   ],
   "source": [
    "query = \"\"\"INSERT INTO customer_data (\"CIVILITY\", \"FIRSTNAME\", \"LASTNAME\", \\\n",
    "    \"ZIPCODE\", \"EMAIL\", \"BIRTHYEAR\", \"ECOLO_SCORE\", \"WORKDAY_OCCUPATION\", \"MAX_POWER\", \"CONS_PROFILE\") \\\n",
    "    VALUES ('MR', 'Lucas', 'Saban', '91120', 'lucas.saban@ensae.fr', \\\n",
    "    '1998', 5, True, 6, 'RES2')\"\"\"\n",
    "cursor.execute(query)\n",
    "conn.commit()\n"
   ]
  },
  {
   "cell_type": "code",
   "execution_count": null,
   "metadata": {},
   "outputs": [
    {
     "name": "stderr",
     "output_type": "stream",
     "text": [
      "C:\\Users\\idris\\AppData\\Local\\Temp\\ipykernel_3488\\149451697.py:1: UserWarning: pandas only supports SQLAlchemy connectable (engine/connection) or database string URI or sqlite3 DBAPI2 connection. Other DBAPI2 objects are not tested. Please consider using SQLAlchemy.\n",
      "  df = pd.read_sql('select * from customer_data', con=conn)\n"
     ]
    },
    {
     "data": {
      "text/html": [
       "<div>\n",
       "<style scoped>\n",
       "    .dataframe tbody tr th:only-of-type {\n",
       "        vertical-align: middle;\n",
       "    }\n",
       "\n",
       "    .dataframe tbody tr th {\n",
       "        vertical-align: top;\n",
       "    }\n",
       "\n",
       "    .dataframe thead th {\n",
       "        text-align: right;\n",
       "    }\n",
       "</style>\n",
       "<table border=\"1\" class=\"dataframe\">\n",
       "  <thead>\n",
       "    <tr style=\"text-align: right;\">\n",
       "      <th></th>\n",
       "      <th>CUSTOMER_ID</th>\n",
       "      <th>CIVILITY</th>\n",
       "      <th>FIRSTNAME</th>\n",
       "      <th>LASTNAME</th>\n",
       "      <th>ZIPCODE</th>\n",
       "      <th>EMAIL</th>\n",
       "      <th>BIRTHYEAR</th>\n",
       "      <th>ECOLO_SCORE</th>\n",
       "      <th>WORKDAY_OCCUPATION</th>\n",
       "      <th>MAX_POWER</th>\n",
       "      <th>CONS_PROFILE</th>\n",
       "      <th>Q_INHABITED_AREA</th>\n",
       "      <th>Q_HOUSING_KIND</th>\n",
       "      <th>Q_HOUSING_OUTLINE</th>\n",
       "      <th>Q_NB_INHABITANT</th>\n",
       "    </tr>\n",
       "  </thead>\n",
       "  <tbody>\n",
       "    <tr>\n",
       "      <th>0</th>\n",
       "      <td>1cba9985-69f0-4494-920e-fbb1a88d991e</td>\n",
       "      <td>MR</td>\n",
       "      <td>Idrissa</td>\n",
       "      <td>Konkobo</td>\n",
       "      <td>91120</td>\n",
       "      <td>idrissa.konkobo@ensae.fr</td>\n",
       "      <td>1998</td>\n",
       "      <td>4</td>\n",
       "      <td>True</td>\n",
       "      <td>12</td>\n",
       "      <td>RES2</td>\n",
       "      <td>19.0</td>\n",
       "      <td>apartment</td>\n",
       "      <td>single_floor</td>\n",
       "      <td>1.0</td>\n",
       "    </tr>\n",
       "    <tr>\n",
       "      <th>1</th>\n",
       "      <td>2dffcac6-fde3-4636-8ba3-4ca6161e30e5</td>\n",
       "      <td>MR</td>\n",
       "      <td>Lucas</td>\n",
       "      <td>Saban</td>\n",
       "      <td>91120</td>\n",
       "      <td>lucas.saban@ensae.fr</td>\n",
       "      <td>1998</td>\n",
       "      <td>5</td>\n",
       "      <td>True</td>\n",
       "      <td>6</td>\n",
       "      <td>RES2</td>\n",
       "      <td>NaN</td>\n",
       "      <td>None</td>\n",
       "      <td>None</td>\n",
       "      <td>NaN</td>\n",
       "    </tr>\n",
       "  </tbody>\n",
       "</table>\n",
       "</div>"
      ],
      "text/plain": [
       "                            CUSTOMER_ID CIVILITY FIRSTNAME LASTNAME ZIPCODE  \\\n",
       "0  1cba9985-69f0-4494-920e-fbb1a88d991e       MR   Idrissa  Konkobo   91120   \n",
       "1  2dffcac6-fde3-4636-8ba3-4ca6161e30e5       MR     Lucas    Saban   91120   \n",
       "\n",
       "                      EMAIL  BIRTHYEAR  ECOLO_SCORE  WORKDAY_OCCUPATION  \\\n",
       "0  idrissa.konkobo@ensae.fr       1998            4                True   \n",
       "1      lucas.saban@ensae.fr       1998            5                True   \n",
       "\n",
       "   MAX_POWER CONS_PROFILE  Q_INHABITED_AREA Q_HOUSING_KIND Q_HOUSING_OUTLINE  \\\n",
       "0         12         RES2              19.0      apartment      single_floor   \n",
       "1          6         RES2               NaN           None              None   \n",
       "\n",
       "   Q_NB_INHABITANT  \n",
       "0              1.0  \n",
       "1              NaN  "
      ]
     },
     "execution_count": 27,
     "metadata": {},
     "output_type": "execute_result"
    }
   ],
   "source": [
    "df = pd.read_sql('select * from customer_data', con=conn)\n",
    "df"
   ]
  },
  {
   "cell_type": "code",
   "execution_count": null,
   "metadata": {},
   "outputs": [
    {
     "data": {
      "text/plain": [
       "True"
      ]
     },
     "execution_count": 28,
     "metadata": {},
     "output_type": "execute_result"
    }
   ],
   "source": [
    "'01001' in pd.read_csv(\"https://www.insee.fr/fr/statistiques/fichier/5057840/commune2021-csv.zip\")[\"COM\"].unique()"
   ]
  },
  {
   "cell_type": "code",
   "execution_count": null,
   "metadata": {},
   "outputs": [],
   "source": []
  }
 ],
 "metadata": {
  "kernelspec": {
   "display_name": "Python 3.9.15 ('rasa-app')",
   "language": "python",
   "name": "python3"
  },
  "language_info": {
   "codemirror_mode": {
    "name": "ipython",
    "version": 3
   },
   "file_extension": ".py",
   "mimetype": "text/x-python",
   "name": "python",
   "nbconvert_exporter": "python",
   "pygments_lexer": "ipython3",
   "version": "3.9.15"
  },
  "orig_nbformat": 4,
  "vscode": {
   "interpreter": {
    "hash": "330de1046d954a743bbf2a1e54c32d1790906efc6ffce1996feeb0a5d76292b7"
   }
  }
 },
 "nbformat": 4,
 "nbformat_minor": 2
}
