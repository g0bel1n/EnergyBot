{
 "cells": [
  {
   "cell_type": "code",
   "execution_count": 52,
   "metadata": {},
   "outputs": [],
   "source": [
    "import psycopg2\n",
    "# from sqlalchemy import create_engine\n",
    "import pandas as pd\n",
    "import yaml\n",
    "from yaml.loader import SafeLoader\n",
    "\n",
    "# Open the file and load the file\n",
    "with open('C:/Users/idris/Desktop/ENSAE/S1_3A/Cloud_Computing/EnergyBot/chatbot/config_db.yml') as f:\n",
    "    credentials = yaml.load(f, Loader=SafeLoader)\n",
    "\n",
    "conn = psycopg2.connect(database=credentials[\"database\"],\n",
    "                        host=credentials[\"host\"],\n",
    "                        user=credentials[\"user\"],\n",
    "                        password=credentials[\"password\"],\n",
    "                        port=credentials[\"port\"])"
   ]
  },
  {
   "cell_type": "code",
   "execution_count": 53,
   "metadata": {},
   "outputs": [],
   "source": [
    "cursor = conn.cursor()"
   ]
  },
  {
   "cell_type": "code",
   "execution_count": null,
   "metadata": {},
   "outputs": [],
   "source": [
    "'''query = \"\"\"INSERT INTO customer_data (\"CIVILITY\", \"FIRSTNAME\", \"LASTNAME\", \\\n",
    "    \"ZIPCODE\", \"EMAIL\", \"BIRTHYEAR\", \"ECOLO_SCORE\", \"WORKDAY_OCCUPATION\", \"MAX_POWER\", \"CONS_PROFILE\") \\\n",
    "    VALUES ('MR', 'Lucas', 'Saban', '91120', 'lucas.saban@outlook.fr', \\\n",
    "    '1998', 5, 'False', 6, 'RES2')\"\"\"\n",
    "cursor.execute(query)\n",
    "conn.commit()\n",
    "'''"
   ]
  },
  {
   "cell_type": "code",
   "execution_count": 54,
   "metadata": {},
   "outputs": [
    {
     "name": "stderr",
     "output_type": "stream",
     "text": [
      "C:\\Users\\idris\\AppData\\Local\\Temp\\ipykernel_3488\\149451697.py:1: UserWarning: pandas only supports SQLAlchemy connectable (engine/connection) or database string URI or sqlite3 DBAPI2 connection. Other DBAPI2 objects are not tested. Please consider using SQLAlchemy.\n",
      "  df = pd.read_sql('select * from customer_data', con=conn)\n"
     ]
    },
    {
     "data": {
      "text/html": [
       "<div>\n",
       "<style scoped>\n",
       "    .dataframe tbody tr th:only-of-type {\n",
       "        vertical-align: middle;\n",
       "    }\n",
       "\n",
       "    .dataframe tbody tr th {\n",
       "        vertical-align: top;\n",
       "    }\n",
       "\n",
       "    .dataframe thead th {\n",
       "        text-align: right;\n",
       "    }\n",
       "</style>\n",
       "<table border=\"1\" class=\"dataframe\">\n",
       "  <thead>\n",
       "    <tr style=\"text-align: right;\">\n",
       "      <th></th>\n",
       "      <th>CUSTOMER_ID</th>\n",
       "      <th>CIVILITY</th>\n",
       "      <th>FIRSTNAME</th>\n",
       "      <th>LASTNAME</th>\n",
       "      <th>ZIPCODE</th>\n",
       "      <th>EMAIL</th>\n",
       "      <th>BIRTHYEAR</th>\n",
       "      <th>ECOLO_SCORE</th>\n",
       "      <th>WORKDAY_OCCUPATION</th>\n",
       "      <th>MAX_POWER</th>\n",
       "      <th>CONS_PROFILE</th>\n",
       "      <th>Q_INHABITED_AREA</th>\n",
       "      <th>Q_HOUSING_KIND</th>\n",
       "      <th>Q_HOUSING_OUTLINE</th>\n",
       "      <th>Q_NB_INHABITANT</th>\n",
       "    </tr>\n",
       "  </thead>\n",
       "  <tbody>\n",
       "    <tr>\n",
       "      <th>0</th>\n",
       "      <td>1cba9985-69f0-4494-920e-fbb1a88d991e</td>\n",
       "      <td>MR</td>\n",
       "      <td>Idrissa</td>\n",
       "      <td>Konkobo</td>\n",
       "      <td>91120</td>\n",
       "      <td>idrissa.konkobo@ensae.fr</td>\n",
       "      <td>1998</td>\n",
       "      <td>4</td>\n",
       "      <td>True</td>\n",
       "      <td>12</td>\n",
       "      <td>RES2</td>\n",
       "      <td>19.0</td>\n",
       "      <td>apartment</td>\n",
       "      <td>single_floor</td>\n",
       "      <td>1.0</td>\n",
       "    </tr>\n",
       "    <tr>\n",
       "      <th>1</th>\n",
       "      <td>2dffcac6-fde3-4636-8ba3-4ca6161e30e5</td>\n",
       "      <td>MR</td>\n",
       "      <td>Lucas</td>\n",
       "      <td>Saban</td>\n",
       "      <td>91120</td>\n",
       "      <td>lucas.saban@ensae.fr</td>\n",
       "      <td>1998</td>\n",
       "      <td>5</td>\n",
       "      <td>True</td>\n",
       "      <td>6</td>\n",
       "      <td>RES2</td>\n",
       "      <td>NaN</td>\n",
       "      <td>None</td>\n",
       "      <td>None</td>\n",
       "      <td>NaN</td>\n",
       "    </tr>\n",
       "    <tr>\n",
       "      <th>2</th>\n",
       "      <td>4f37b35d-73a2-4ab1-bb52-5cea48d1f9ae</td>\n",
       "      <td>MR</td>\n",
       "      <td>Lucas</td>\n",
       "      <td>Saban</td>\n",
       "      <td>91120</td>\n",
       "      <td>lucas.saban@GMAIL.fr</td>\n",
       "      <td>1998</td>\n",
       "      <td>5</td>\n",
       "      <td>True</td>\n",
       "      <td>6</td>\n",
       "      <td>RES2</td>\n",
       "      <td>NaN</td>\n",
       "      <td>None</td>\n",
       "      <td>None</td>\n",
       "      <td>NaN</td>\n",
       "    </tr>\n",
       "    <tr>\n",
       "      <th>3</th>\n",
       "      <td>78b909e5-24ff-4b56-9f6d-d5ee7da54a52</td>\n",
       "      <td>MR</td>\n",
       "      <td>Lucas</td>\n",
       "      <td>Saban</td>\n",
       "      <td>91120</td>\n",
       "      <td>lucas.saban@outlook.fr</td>\n",
       "      <td>1998</td>\n",
       "      <td>5</td>\n",
       "      <td>False</td>\n",
       "      <td>6</td>\n",
       "      <td>RES2</td>\n",
       "      <td>NaN</td>\n",
       "      <td>None</td>\n",
       "      <td>None</td>\n",
       "      <td>NaN</td>\n",
       "    </tr>\n",
       "    <tr>\n",
       "      <th>4</th>\n",
       "      <td>b25e9488-037b-4736-aae4-effdac1ef29b</td>\n",
       "      <td>MME</td>\n",
       "      <td>Sorelle</td>\n",
       "      <td>Methafe</td>\n",
       "      <td>01001</td>\n",
       "      <td>sorelleloveline.methafe@ensae.fr</td>\n",
       "      <td>1998</td>\n",
       "      <td>5</td>\n",
       "      <td>False</td>\n",
       "      <td>15</td>\n",
       "      <td>RES11</td>\n",
       "      <td>NaN</td>\n",
       "      <td>None</td>\n",
       "      <td>None</td>\n",
       "      <td>NaN</td>\n",
       "    </tr>\n",
       "  </tbody>\n",
       "</table>\n",
       "</div>"
      ],
      "text/plain": [
       "                            CUSTOMER_ID CIVILITY FIRSTNAME LASTNAME ZIPCODE  \\\n",
       "0  1cba9985-69f0-4494-920e-fbb1a88d991e       MR   Idrissa  Konkobo   91120   \n",
       "1  2dffcac6-fde3-4636-8ba3-4ca6161e30e5       MR     Lucas    Saban   91120   \n",
       "2  4f37b35d-73a2-4ab1-bb52-5cea48d1f9ae       MR     Lucas    Saban   91120   \n",
       "3  78b909e5-24ff-4b56-9f6d-d5ee7da54a52       MR     Lucas    Saban   91120   \n",
       "4  b25e9488-037b-4736-aae4-effdac1ef29b      MME   Sorelle  Methafe   01001   \n",
       "\n",
       "                              EMAIL  BIRTHYEAR  ECOLO_SCORE  \\\n",
       "0          idrissa.konkobo@ensae.fr       1998            4   \n",
       "1              lucas.saban@ensae.fr       1998            5   \n",
       "2              lucas.saban@GMAIL.fr       1998            5   \n",
       "3            lucas.saban@outlook.fr       1998            5   \n",
       "4  sorelleloveline.methafe@ensae.fr       1998            5   \n",
       "\n",
       "   WORKDAY_OCCUPATION  MAX_POWER CONS_PROFILE  Q_INHABITED_AREA  \\\n",
       "0                True         12         RES2              19.0   \n",
       "1                True          6         RES2               NaN   \n",
       "2                True          6         RES2               NaN   \n",
       "3               False          6         RES2               NaN   \n",
       "4               False         15        RES11               NaN   \n",
       "\n",
       "  Q_HOUSING_KIND Q_HOUSING_OUTLINE  Q_NB_INHABITANT  \n",
       "0      apartment      single_floor              1.0  \n",
       "1           None              None              NaN  \n",
       "2           None              None              NaN  \n",
       "3           None              None              NaN  \n",
       "4           None              None              NaN  "
      ]
     },
     "execution_count": 54,
     "metadata": {},
     "output_type": "execute_result"
    }
   ],
   "source": [
    "df = pd.read_sql('select * from customer_data', con=conn)\n",
    "df"
   ]
  },
  {
   "cell_type": "code",
   "execution_count": 55,
   "metadata": {},
   "outputs": [
    {
     "name": "stdout",
     "output_type": "stream",
     "text": [
      "<class 'pandas.core.frame.DataFrame'>\n",
      "RangeIndex: 5 entries, 0 to 4\n",
      "Data columns (total 15 columns):\n",
      " #   Column              Non-Null Count  Dtype  \n",
      "---  ------              --------------  -----  \n",
      " 0   CUSTOMER_ID         5 non-null      object \n",
      " 1   CIVILITY            5 non-null      object \n",
      " 2   FIRSTNAME           5 non-null      object \n",
      " 3   LASTNAME            5 non-null      object \n",
      " 4   ZIPCODE             5 non-null      object \n",
      " 5   EMAIL               5 non-null      object \n",
      " 6   BIRTHYEAR           5 non-null      int64  \n",
      " 7   ECOLO_SCORE         5 non-null      int64  \n",
      " 8   WORKDAY_OCCUPATION  5 non-null      bool   \n",
      " 9   MAX_POWER           5 non-null      int64  \n",
      " 10  CONS_PROFILE        5 non-null      object \n",
      " 11  Q_INHABITED_AREA    1 non-null      float64\n",
      " 12  Q_HOUSING_KIND      1 non-null      object \n",
      " 13  Q_HOUSING_OUTLINE   1 non-null      object \n",
      " 14  Q_NB_INHABITANT     1 non-null      float64\n",
      "dtypes: bool(1), float64(2), int64(3), object(9)\n",
      "memory usage: 693.0+ bytes\n"
     ]
    }
   ],
   "source": [
    "df.info()"
   ]
  },
  {
   "cell_type": "code",
   "execution_count": 56,
   "metadata": {},
   "outputs": [
    {
     "data": {
      "text/plain": [
       "True"
      ]
     },
     "execution_count": 56,
     "metadata": {},
     "output_type": "execute_result"
    }
   ],
   "source": [
    "'01001' in pd.read_csv(\"https://www.insee.fr/fr/statistiques/fichier/5057840/commune2021-csv.zip\")[\"COM\"].unique()"
   ]
  },
  {
   "cell_type": "code",
   "execution_count": null,
   "metadata": {},
   "outputs": [],
   "source": []
  }
 ],
 "metadata": {
  "kernelspec": {
   "display_name": "Python 3.9.15 ('rasa-app')",
   "language": "python",
   "name": "python3"
  },
  "language_info": {
   "codemirror_mode": {
    "name": "ipython",
    "version": 3
   },
   "file_extension": ".py",
   "mimetype": "text/x-python",
   "name": "python",
   "nbconvert_exporter": "python",
   "pygments_lexer": "ipython3",
   "version": "3.9.15"
  },
  "orig_nbformat": 4,
  "vscode": {
   "interpreter": {
    "hash": "330de1046d954a743bbf2a1e54c32d1790906efc6ffce1996feeb0a5d76292b7"
   }
  }
 },
 "nbformat": 4,
 "nbformat_minor": 2
}
