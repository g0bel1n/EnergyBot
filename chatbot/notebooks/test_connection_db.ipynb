{
 "cells": [
  {
   "cell_type": "code",
   "execution_count": null,
   "metadata": {},
   "outputs": [],
   "source": [
    "import psycopg2\n",
    "# from sqlalchemy import create_engine\n",
    "import pandas as pd\n",
    "import yaml\n",
    "from datetime import datetime\n",
    "from yaml.loader import SafeLoader\n",
    "import requests\n",
    "\n",
    "# Open the file and load the file\n",
    "with open('C:/Users/idris/Desktop/ENSAE/S1_3A/Cloud_Computing/EnergyBot/chatbot/config_db.yml') as f:\n",
    "    credentials = yaml.load(f, Loader=SafeLoader)\n",
    "\n",
    "conn = psycopg2.connect(database=credentials[\"database\"],\n",
    "                        host=credentials[\"host\"],\n",
    "                        user=credentials[\"user\"],\n",
    "                        password=credentials[\"password\"],\n",
    "                        port=credentials[\"port\"])\n",
    "\n",
    "cursor = conn.cursor()"
   ]
  },
  {
   "cell_type": "code",
   "execution_count": null,
   "metadata": {},
   "outputs": [],
   "source": [
    "API_URL = \"http://localhost:5005/model/parse\"\n",
    "\n",
    "#headers = {\"Authorization\": st.secrets['api_key']}\n",
    "\n",
    "payload={\n",
    "    \"text\": \"dear bot\"\n",
    "}\n",
    "def query():\n",
    "        response = requests.post(API_URL, json=payload)#, headers=headers)\n",
    "        return response.json()"
   ]
  },
  {
   "cell_type": "code",
   "execution_count": null,
   "metadata": {},
   "outputs": [],
   "source": [
    "query()[\"response_selector\"][\"default\"][\"response\"][\"responses\"][0][\"text\"]"
   ]
  },
  {
   "cell_type": "code",
   "execution_count": null,
   "metadata": {},
   "outputs": [],
   "source": [
    "datetime.now().strftime(\"%Y-%m-%d\")"
   ]
  },
  {
   "cell_type": "code",
   "execution_count": null,
   "metadata": {},
   "outputs": [],
   "source": [
    "'''\n",
    "query = \"\"\"DELETE FROM customer_data;\"\"\"\n",
    "cursor.execute(query)\n",
    "conn.commit()\n",
    "'''"
   ]
  },
  {
   "cell_type": "code",
   "execution_count": null,
   "metadata": {},
   "outputs": [],
   "source": [
    "df = pd.read_sql('select * from customer_data', con=conn)\n",
    "df"
   ]
  },
  {
   "cell_type": "code",
   "execution_count": null,
   "metadata": {},
   "outputs": [],
   "source": [
    "df.info()"
   ]
  },
  {
   "cell_type": "code",
   "execution_count": null,
   "metadata": {},
   "outputs": [],
   "source": [
    "#pd.read_csv(\"https://www.insee.fr/fr/statistiques/fichier/5057840/commune2021-csv.zip\")[\"COM\"]"
   ]
  },
  {
   "cell_type": "code",
   "execution_count": null,
   "metadata": {},
   "outputs": [],
   "source": []
  }
 ],
 "metadata": {
  "kernelspec": {
   "display_name": "Python 3.9.15 ('rasa-app')",
   "language": "python",
   "name": "python3"
  },
  "language_info": {
   "codemirror_mode": {
    "name": "ipython",
    "version": 3
   },
   "file_extension": ".py",
   "mimetype": "text/x-python",
   "name": "python",
   "nbconvert_exporter": "python",
   "pygments_lexer": "ipython3",
   "version": "3.9.15"
  },
  "orig_nbformat": 4,
  "vscode": {
   "interpreter": {
    "hash": "330de1046d954a743bbf2a1e54c32d1790906efc6ffce1996feeb0a5d76292b7"
   }
  }
 },
 "nbformat": 4,
 "nbformat_minor": 2
}
