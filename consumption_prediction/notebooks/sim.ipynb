{
 "cells": [
  {
   "cell_type": "code",
   "execution_count": 1,
   "metadata": {},
   "outputs": [],
   "source": [
    "import pandas as pd\n",
    "import numpy as np\n",
    "from datetime import datetime\n",
    "import plotly.express as px\n",
    "import os\n",
    "from tqdm import tqdm\n",
    "from functools import lru_cache\n",
    "\n",
    "def rooter(path : str = 'EnergyBot') -> None:\n",
    "    \"\"\"Change the working directory to the root of the project\"\"\"\n",
    "    try :\n",
    "        os.chdir(os.path.join(os.getcwd().split(path)[0], path))\n",
    "    except :\n",
    "        raise Exception(\"Please run this script from the inside of the project\")\n",
    "\n",
    "rooter()\n",
    "\n",
    "from  consumption_prediction.src.data.conso_ps_profil import consommation_PS_PROFIL, data_coeff_profil, aggregats_consommation"
   ]
  },
  {
   "cell_type": "code",
   "execution_count": 2,
   "metadata": {},
   "outputs": [
    {
     "data": {
      "text/html": [
       "<div>\n",
       "<style scoped>\n",
       "    .dataframe tbody tr th:only-of-type {\n",
       "        vertical-align: middle;\n",
       "    }\n",
       "\n",
       "    .dataframe tbody tr th {\n",
       "        vertical-align: top;\n",
       "    }\n",
       "\n",
       "    .dataframe thead th {\n",
       "        text-align: right;\n",
       "    }\n",
       "</style>\n",
       "<table border=\"1\" class=\"dataframe\">\n",
       "  <thead>\n",
       "    <tr style=\"text-align: right;\">\n",
       "      <th></th>\n",
       "      <th>HORODATE</th>\n",
       "      <th>SOUS_PROFIL</th>\n",
       "      <th>CONSOMMATION</th>\n",
       "      <th>PUISSANCE_SOUSCRITE</th>\n",
       "    </tr>\n",
       "  </thead>\n",
       "  <tbody>\n",
       "    <tr>\n",
       "      <th>0</th>\n",
       "      <td>2021-01-01</td>\n",
       "      <td>RES2</td>\n",
       "      <td>28.782577</td>\n",
       "      <td>12</td>\n",
       "    </tr>\n",
       "    <tr>\n",
       "      <th>1</th>\n",
       "      <td>2021-01-02</td>\n",
       "      <td>RES2</td>\n",
       "      <td>30.729357</td>\n",
       "      <td>12</td>\n",
       "    </tr>\n",
       "    <tr>\n",
       "      <th>2</th>\n",
       "      <td>2021-01-03</td>\n",
       "      <td>RES2</td>\n",
       "      <td>30.595572</td>\n",
       "      <td>12</td>\n",
       "    </tr>\n",
       "    <tr>\n",
       "      <th>3</th>\n",
       "      <td>2021-01-04</td>\n",
       "      <td>RES2</td>\n",
       "      <td>30.686863</td>\n",
       "      <td>12</td>\n",
       "    </tr>\n",
       "    <tr>\n",
       "      <th>4</th>\n",
       "      <td>2021-01-05</td>\n",
       "      <td>RES2</td>\n",
       "      <td>30.557003</td>\n",
       "      <td>12</td>\n",
       "    </tr>\n",
       "  </tbody>\n",
       "</table>\n",
       "</div>"
      ],
      "text/plain": [
       "    HORODATE SOUS_PROFIL  CONSOMMATION  PUISSANCE_SOUSCRITE\n",
       "0 2021-01-01        RES2     28.782577                   12\n",
       "1 2021-01-02        RES2     30.729357                   12\n",
       "2 2021-01-03        RES2     30.595572                   12\n",
       "3 2021-01-04        RES2     30.686863                   12\n",
       "4 2021-01-05        RES2     30.557003                   12"
      ]
     },
     "execution_count": 2,
     "metadata": {},
     "output_type": "execute_result"
    }
   ],
   "source": [
    "df_conso = consommation_PS_PROFIL(12, \"RES2\")\n",
    "df_conso.head()"
   ]
  },
  {
   "cell_type": "code",
   "execution_count": 3,
   "metadata": {},
   "outputs": [],
   "source": [
    "N_paysage = 7\n",
    "paysage_average = np.random.randint(1, 10, size=N_paysage)\n",
    "ecolo_score_pond = 2\n",
    "\n",
    "# un dictionnaire de type Dict[id_profil_ps, [profil, ps]]\n",
    "dict_profil_ps = {\n",
    "                    1: ['RES1', 3], 2: ['RES1', 6], 3: ['RES11', 9],\n",
    "                    4: ['RES11', 12],  5: ['RES11', 15], 6: ['RES11', 18],\n",
    "                    7: ['RES11', 24], 8: ['RES11', 30], 9: ['RES11', 36],\n",
    "                    10: ['RES2', 3], 11: ['RES2', 6], 12: ['RES2', 9],\n",
    "                    13: ['RES2', 12], 14: ['RES2', 15], 16: ['RES2', 18],\n",
    "                    17: ['RES2', 24], 18: ['RES2', 30], 19: ['RES2', 36]\n",
    "                 }"
   ]
  },
  {
   "cell_type": "code",
   "execution_count": 4,
   "metadata": {},
   "outputs": [
    {
     "name": "stderr",
     "output_type": "stream",
     "text": [
      "100%|██████████| 10/10 [00:10<00:00,  1.01s/it]\n"
     ]
    }
   ],
   "source": [
    "def check_inputs(func):\n",
    "    def wrapper(consommation, ecolo_score, workday_occupation, paysage, nb_habitant):\n",
    "        if ecolo_score < 0 or ecolo_score > 10:\n",
    "            raise ValueError(\"Le score écologique doit être compris entre 0 et 10\")\n",
    "        if workday_occupation < 0 or workday_occupation > 7:\n",
    "            raise ValueError(\"Le taux d'occupation doit être compris entre 0 et 7\")\n",
    "        if len(paysage) != N_paysage:\n",
    "            raise ValueError(\"Le paysage doit être un vecteur de taille {}\".format(N_paysage))\n",
    "        if nb_habitant < 0:\n",
    "            raise ValueError(\"Le nombre d'habitant doit être positif\")\n",
    "        return func(consommation, ecolo_score, workday_occupation, paysage, nb_habitant)\n",
    "    return wrapper\n",
    "\n",
    "\n",
    "\n",
    "@check_inputs\n",
    "def generate_conso(consommation, ecolo_score, workday_occupation, paysage, nb_habitant) -> pd.DataFrame:\n",
    "    paysage_tot = paysage@paysage_average\n",
    "    contribution_ecolo = ecolo_score_pond * ecolo_score\n",
    "    contribution_workday = workday_occupation ** 2\n",
    "    contribution_paysage = paysage_tot ** 2\n",
    "    contribution_nb_habitant = nb_habitant ** (3/2)\n",
    "    coeff = 1 + (contribution_ecolo + contribution_workday + contribution_paysage + contribution_nb_habitant) / 100\n",
    "    return consommation * coeff + np.random.normal(0, 0.1, size=1)\n",
    "\n",
    "\n",
    "def aggregate_Xy(X, y):\n",
    "    df = pd.DataFrame(np.concatenate([X, y.reshape(-1, 1)], axis=1))\n",
    "    df.columns = [\"ecolo_score\", \"workday_occupation\", *[\"paysage_{}\".format(i) for i in range(N_paysage)], \"nb_habitant\", \"conso\"]\n",
    "    return df\n",
    "\n",
    "@lru_cache\n",
    "def aggregats_consommation_cached(ps, profil):\n",
    "    return aggregats_consommation(ps, profil)\n",
    "\n",
    "def generate_Xy(N_samples:int=100):\n",
    "    X, y = [], []\n",
    "    for i in tqdm(range(N_samples)):\n",
    "        id_profil_ps = np.random.choice(range(1, len(dict_profil_ps)+1))\n",
    "        profil, ps = dict_profil_ps[id_profil_ps][0], dict_profil_ps[id_profil_ps][1]\n",
    "        df_conso = aggregats_consommation(ps, profil)['CONSOMMATION_MOYENNE_JOURNALIERE'].values\n",
    "        ecolo_score = np.random.randint(0, 11)\n",
    "        workday_occupation = np.random.randint(0, 8)\n",
    "        paysage = np.random.randint(0, 1, size=N_paysage)\n",
    "        nb_habitant = np.random.randint(1, 8)\n",
    "        df_conso = generate_conso(df_conso, ecolo_score, workday_occupation, paysage, nb_habitant)\n",
    "        if len(df_conso) == 1:\n",
    "            df_conso = df_conso[0]\n",
    "            X.append([ecolo_score, workday_occupation, *paysage, nb_habitant])\n",
    "            y.append(df_conso)\n",
    "    return np.array(X), np.array(y)\n",
    "\n",
    "X, y = generate_Xy(10)"
   ]
  },
  {
   "cell_type": "code",
   "execution_count": 7,
   "metadata": {},
   "outputs": [
    {
     "data": {
      "text/plain": [
       "array([[10,  7,  0,  0,  0,  0,  0,  0,  0,  4],\n",
       "       [ 0,  2,  0,  0,  0,  0,  0,  0,  0,  3],\n",
       "       [ 9,  4,  0,  0,  0,  0,  0,  0,  0,  1],\n",
       "       [ 8,  0,  0,  0,  0,  0,  0,  0,  0,  2],\n",
       "       [ 4,  0,  0,  0,  0,  0,  0,  0,  0,  1],\n",
       "       [ 8,  5,  0,  0,  0,  0,  0,  0,  0,  3],\n",
       "       [ 5,  2,  0,  0,  0,  0,  0,  0,  0,  2],\n",
       "       [ 4,  4,  0,  0,  0,  0,  0,  0,  0,  5],\n",
       "       [ 8,  6,  0,  0,  0,  0,  0,  0,  0,  6],\n",
       "       [ 2,  0,  0,  0,  0,  0,  0,  0,  0,  3]])"
      ]
     },
     "execution_count": 7,
     "metadata": {},
     "output_type": "execute_result"
    }
   ],
   "source": [
    "X"
   ]
  },
  {
   "cell_type": "code",
   "execution_count": 6,
   "metadata": {},
   "outputs": [
    {
     "data": {
      "text/plain": [
       "array([65.63529379,  8.40692321, 62.28817711, 17.90557098, 16.83105801,\n",
       "       44.70675736, 13.49042503, 25.97118612, 77.21632103, 25.14982441])"
      ]
     },
     "execution_count": 6,
     "metadata": {},
     "output_type": "execute_result"
    }
   ],
   "source": [
    "y"
   ]
  },
  {
   "cell_type": "code",
   "execution_count": null,
   "metadata": {},
   "outputs": [],
   "source": []
  }
 ],
 "metadata": {
  "kernelspec": {
   "display_name": "Python 3.9.7 ('base')",
   "language": "python",
   "name": "python3"
  },
  "language_info": {
   "codemirror_mode": {
    "name": "ipython",
    "version": 3
   },
   "file_extension": ".py",
   "mimetype": "text/x-python",
   "name": "python",
   "nbconvert_exporter": "python",
   "pygments_lexer": "ipython3",
   "version": "3.9.7"
  },
  "orig_nbformat": 4,
  "vscode": {
   "interpreter": {
    "hash": "a88ca58f86bbd0a66af06a3e4e21d5fbae321c5d673f8926c8a91ce5e5ab1cf2"
   }
  }
 },
 "nbformat": 4,
 "nbformat_minor": 2
}
